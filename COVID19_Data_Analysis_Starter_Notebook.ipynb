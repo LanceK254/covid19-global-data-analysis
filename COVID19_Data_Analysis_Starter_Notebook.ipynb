{
 "cells": [
  {
   "cell_type": "markdown",
   "id": "4c91c309",
   "metadata": {},
   "source": [
    "# 🌍 COVID-19 Global Data Analysis\n",
    "\n",
    "**Date:** 2025-05-15\n",
    "\n",
    "This notebook provides a comprehensive analysis of global COVID-19 trends using data from Our World in Data. We will explore trends in cases, deaths, and vaccinations, and visualize our findings."
   ]
  },
  {
   "cell_type": "markdown",
   "id": "e063c0f4",
   "metadata": {},
   "source": [
    "## 1️⃣ Data Collection\n",
    "\n",
    "- Download `owid-covid-data.csv` from [Our World in Data](https://ourworldindata.org/covid-deaths)\n",
    "- Save the file in your working directory."
   ]
  },
  {
   "cell_type": "markdown",
   "id": "bd90f019",
   "metadata": {},
   "source": [
    "## 2️⃣ Data Loading & Exploration"
   ]
  },
  {
   "cell_type": "code",
   "execution_count": 1,
   "id": "44ec12d3",
   "metadata": {},
   "outputs": [
    {
     "ename": "ModuleNotFoundError",
     "evalue": "No module named 'pandas'",
     "output_type": "error",
     "traceback": [
      "\u001b[31m---------------------------------------------------------------------------\u001b[39m",
      "\u001b[31mModuleNotFoundError\u001b[39m                       Traceback (most recent call last)",
      "\u001b[36mCell\u001b[39m\u001b[36m \u001b[39m\u001b[32mIn[1]\u001b[39m\u001b[32m, line 1\u001b[39m\n\u001b[32m----> \u001b[39m\u001b[32m1\u001b[39m \u001b[38;5;28;01mimport\u001b[39;00m\u001b[38;5;250m \u001b[39m\u001b[34;01mpandas\u001b[39;00m\u001b[38;5;250m \u001b[39m\u001b[38;5;28;01mas\u001b[39;00m\u001b[38;5;250m \u001b[39m\u001b[34;01mpd\u001b[39;00m\n\u001b[32m      3\u001b[39m \u001b[38;5;66;03m# Load the dataset\u001b[39;00m\n\u001b[32m      4\u001b[39m df = pd.read_csv(\u001b[33m'\u001b[39m\u001b[33mowid-covid-data.csv\u001b[39m\u001b[33m'\u001b[39m)\n",
      "\u001b[31mModuleNotFoundError\u001b[39m: No module named 'pandas'"
     ]
    }
   ],
   "source": [
    "import pandas as pd\n",
    "\n",
    "# Load the dataset\n",
    "df = pd.read_csv('owid-covid-data.csv')\n",
    "\n",
    "# Display basic info\n",
    "print(df.columns)\n",
    "df.head()"
   ]
  },
  {
   "cell_type": "code",
   "execution_count": null,
   "id": "33bd30ba",
   "metadata": {},
   "outputs": [],
   "source": [
    "# Check for missing values\n",
    "df.isnull().sum()"
   ]
  },
  {
   "cell_type": "markdown",
   "id": "19e03ee2",
   "metadata": {},
   "source": [
    "## 3️⃣ Data Cleaning"
   ]
  },
  {
   "cell_type": "code",
   "execution_count": null,
   "id": "fe32d8cc",
   "metadata": {},
   "outputs": [],
   "source": [
    "# Filter selected countries\n",
    "countries = ['Kenya', 'United States', 'India']\n",
    "df = df[df['location'].isin(countries)]\n",
    "\n",
    "# Convert date column to datetime\n",
    "df['date'] = pd.to_datetime(df['date'])\n",
    "\n",
    "# Fill missing values using forward fill\n",
    "df.fillna(method='ffill', inplace=True)\n",
    "\n",
    "# Drop rows with missing critical values\n",
    "df.dropna(subset=['date', 'total_cases', 'total_deaths'], inplace=True)"
   ]
  },
  {
   "cell_type": "markdown",
   "id": "1daac7f5",
   "metadata": {},
   "source": [
    "## 4️⃣ Exploratory Data Analysis (EDA)"
   ]
  },
  {
   "cell_type": "code",
   "execution_count": null,
   "id": "de05d004",
   "metadata": {},
   "outputs": [],
   "source": [
    "import matplotlib.pyplot as plt\n",
    "import seaborn as sns\n",
    "\n",
    "# Plot total cases over time\n",
    "plt.figure(figsize=(12,6))\n",
    "for country in countries:\n",
    "    data = df[df['location'] == country]\n",
    "    plt.plot(data['date'], data['total_cases'], label=country)\n",
    "plt.title('Total COVID-19 Cases Over Time')\n",
    "plt.xlabel('Date')\n",
    "plt.ylabel('Total Cases')\n",
    "plt.legend()\n",
    "plt.show()"
   ]
  },
  {
   "cell_type": "code",
   "execution_count": null,
   "id": "9f251484",
   "metadata": {},
   "outputs": [],
   "source": [
    "# Plot total deaths over time\n",
    "plt.figure(figsize=(12,6))\n",
    "for country in countries:\n",
    "    data = df[df['location'] == country]\n",
    "    plt.plot(data['date'], data['total_deaths'], label=country)\n",
    "plt.title('Total COVID-19 Deaths Over Time')\n",
    "plt.xlabel('Date')\n",
    "plt.ylabel('Total Deaths')\n",
    "plt.legend()\n",
    "plt.show()"
   ]
  },
  {
   "cell_type": "code",
   "execution_count": null,
   "id": "0608de1e",
   "metadata": {},
   "outputs": [],
   "source": [
    "# Calculate and plot death rate\n",
    "df['death_rate'] = df['total_deaths'] / df['total_cases']\n",
    "sns.lineplot(data=df, x='date', y='death_rate', hue='location')\n",
    "plt.title('COVID-19 Death Rate Over Time')\n",
    "plt.show()"
   ]
  },
  {
   "cell_type": "markdown",
   "id": "4bc02773",
   "metadata": {},
   "source": [
    "## 5️⃣ Vaccination Progress"
   ]
  },
  {
   "cell_type": "code",
   "execution_count": null,
   "id": "605ef1b7",
   "metadata": {},
   "outputs": [],
   "source": [
    "# Plot cumulative vaccinations over time\n",
    "plt.figure(figsize=(12,6))\n",
    "for country in countries:\n",
    "    data = df[df['location'] == country]\n",
    "    plt.plot(data['date'], data['total_vaccinations'], label=country)\n",
    "plt.title('Cumulative COVID-19 Vaccinations Over Time')\n",
    "plt.xlabel('Date')\n",
    "plt.ylabel('Total Vaccinations')\n",
    "plt.legend()\n",
    "plt.show()"
   ]
  },
  {
   "cell_type": "markdown",
   "id": "cd0c7a53",
   "metadata": {},
   "source": [
    "## 6️⃣ Optional: Choropleth Map"
   ]
  },
  {
   "cell_type": "code",
   "execution_count": null,
   "id": "d498da93",
   "metadata": {},
   "outputs": [],
   "source": [
    "# Requires plotly\n",
    "# import plotly.express as px\n",
    "\n",
    "# latest_date = df['date'].max()\n",
    "# latest_df = df[df['date'] == latest_date]\n",
    "\n",
    "# fig = px.choropleth(latest_df, locations='iso_code',\n",
    "#                     color='total_cases',\n",
    "#                     hover_name='location',\n",
    "#                     color_continuous_scale='Reds',\n",
    "#                     title='Total COVID-19 Cases by Country')\n",
    "# fig.show()"
   ]
  },
  {
   "cell_type": "markdown",
   "id": "bd6339fd",
   "metadata": {},
   "source": [
    "## 7️⃣ Insights & Reporting\n",
    "\n",
    "**Key Insights:**\n",
    "1. \n",
    "2. \n",
    "3. \n",
    "\n",
    "Use this section to summarize major findings and interesting trends. You can also export this notebook to PDF or PowerPoint for presentation."
   ]
  }
 ],
 "metadata": {
  "kernelspec": {
   "display_name": "Python 3",
   "language": "python",
   "name": "python3"
  },
  "language_info": {
   "codemirror_mode": {
    "name": "ipython",
    "version": 3
   },
   "file_extension": ".py",
   "mimetype": "text/x-python",
   "name": "python",
   "nbconvert_exporter": "python",
   "pygments_lexer": "ipython3",
   "version": "3.13.2"
  }
 },
 "nbformat": 4,
 "nbformat_minor": 5
}
